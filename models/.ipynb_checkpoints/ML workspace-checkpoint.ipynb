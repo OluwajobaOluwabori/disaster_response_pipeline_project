{
 "cells": [
  {
   "cell_type": "code",
   "execution_count": null,
   "id": "68eb2afa",
   "metadata": {},
   "outputs": [],
   "source": [
    "# import libraries\n",
    "!pip install xgboost\n",
    "\n",
    "import nltk\n",
    "import pandas as pd\n",
    "from sqlalchemy import create_engine\n",
    "from nltk import word_tokenize,sent_tokenize\n",
    "from nltk.corpus import stopwords\n",
    "from nltk.stem.wordnet import WordNetLemmatizer\n",
    "from sklearn.pipeline import make_pipeline, FeatureUnion,Pipeline\n",
    "from sklearn.multioutput import MultiOutputClassifier\n",
    "from sklearn.model_selection import train_test_split\n",
    "from xgboost import XGBClassifier\n",
    "from sklearn.ensemble import RandomForestClassifier\n",
    "from sklearn.linear_model import LogisticRegression\n",
    "from sklearn.metrics import f1_score,precision_score,recall_score,accuracy_score\n",
    "\n",
    "#, CountVectorizer, TfidfTransformer\n",
    "#from sklearn.feature_extraction.text import\n",
    "from sklearn.feature_extraction.text import TfidfVectorizer\n",
    "nltk.download('stopwords')"
   ]
  },
  {
   "cell_type": "code",
   "execution_count": null,
   "id": "bdccf4e2",
   "metadata": {},
   "outputs": [],
   "source": [
    "# load data from database\n",
    "engine = create_engine('sqlite:///disaster_response.db')\n",
    "df = pd.read_sql('SELECT * FROM df',con=engine)\n",
    "X = df['message']\n",
    "Y = df.iloc[:,4:]"
   ]
  },
  {
   "cell_type": "code",
   "execution_count": null,
   "id": "f559f1ca",
   "metadata": {},
   "outputs": [],
   "source": [
    "def tokenize(text):\n",
    "    tokens = word_tokenize(text)\n",
    "    \n",
    "    tok=[WordNetLemmatizer().lemmatize(tok, pos='v') for tok in tokens]\n",
    "    tok=[tok for tok in tokens if tok not in stopwords.words(\"english\")]\n",
    "         \n",
    "        \n",
    "    return tokens"
   ]
  },
  {
   "cell_type": "code",
   "execution_count": null,
   "id": "b52097eb",
   "metadata": {},
   "outputs": [],
   "source": [
    "!pip install xgboost\n",
    "from sklearn.feature_extraction.text import TfidfVectorizer\n",
    "from xgboost import XGBClassifier\n",
    "\n",
    "# pipeline = make_pipeline(\n",
    "#     TfidfVectorizer(),\n",
    "#     MultiOutputClassifier(XGBClassifier())\n",
    "# )\n",
    "pipeline = Pipeline([ \n",
    "    ('tfidf', TfidfVectorizer()),\n",
    "   ('clf', MultiOutputClassifier(XGBClassifier()))\n",
    "])\n",
    "\n",
    "x_train,x_test,y_train,y_test = train_test_split(X,Y)\n",
    "pipeline.fit(x_train,y_train)\n"
   ]
  },
  {
   "cell_type": "code",
   "execution_count": null,
   "id": "00300224",
   "metadata": {},
   "outputs": [],
   "source": [
    "x_train,x_test,y_train,y_test = train_test_split(X,Y)\n",
    "pipeline.fit(x_train,y_train)"
   ]
  }
 ],
 "metadata": {
  "kernelspec": {
   "display_name": "Python 3 (ipykernel)",
   "language": "python",
   "name": "python3"
  },
  "language_info": {
   "codemirror_mode": {
    "name": "ipython",
    "version": 3
   },
   "file_extension": ".py",
   "mimetype": "text/x-python",
   "name": "python",
   "nbconvert_exporter": "python",
   "pygments_lexer": "ipython3",
   "version": "3.9.7"
  }
 },
 "nbformat": 4,
 "nbformat_minor": 5
}
